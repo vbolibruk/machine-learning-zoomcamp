{
 "cells": [
  {
   "cell_type": "code",
   "execution_count": 1,
   "metadata": {
    "_cell_guid": "b1076dfc-b9ad-4769-8c92-a6c4dae69d19",
    "_uuid": "8f2839f25d086af736a60e9eeb907d3b93b6e0e5",
    "execution": {
     "iopub.execute_input": "2025-09-28T10:45:28.852915Z",
     "iopub.status.busy": "2025-09-28T10:45:28.852563Z",
     "iopub.status.idle": "2025-09-28T10:45:32.192637Z",
     "shell.execute_reply": "2025-09-28T10:45:32.190566Z",
     "shell.execute_reply.started": "2025-09-28T10:45:28.852882Z"
    },
    "trusted": true
   },
   "outputs": [
    {
     "name": "stdout",
     "output_type": "stream",
     "text": [
      "2.2.3\n",
      "--2025-09-28 10:45:31--  https://raw.githubusercontent.com/alexeygrigorev/datasets/master/car_fuel_efficiency.csv\n",
      "Resolving raw.githubusercontent.com (raw.githubusercontent.com)... 185.199.111.133, 185.199.108.133, 185.199.109.133, ...\n",
      "Connecting to raw.githubusercontent.com (raw.githubusercontent.com)|185.199.111.133|:443... connected.\n",
      "HTTP request sent, awaiting response... 200 OK\n",
      "Length: 874188 (854K) [text/plain]\n",
      "Saving to: ‘car_fuel_efficiency.csv’\n",
      "\n",
      "car_fuel_efficiency 100%[===================>] 853.70K  --.-KB/s    in 0.02s   \n",
      "\n",
      "2025-09-28 10:45:31 (45.0 MB/s) - ‘car_fuel_efficiency.csv’ saved [874188/874188]\n",
      "\n",
      "['Gasoline' 'Diesel']\n",
      "Number of columns with missing values: 4\n",
      "      engine_displacement  num_cylinders  horsepower  vehicle_weight  \\\n",
      "9387                  330            3.0       136.0     1223.298226   \n",
      "343                   240            2.0         NaN     1652.883753   \n",
      "7739                  170           10.0       139.0     1491.755825   \n",
      "9401                  110            1.0       183.0     1707.231276   \n",
      "5416                  250            6.0       173.0     1354.787120   \n",
      "9654                  230            7.0       151.0     1478.594919   \n",
      "1854                  170            4.0       144.0     1425.931367   \n",
      "7505                  140            0.0       129.0     1477.477588   \n",
      "9340                  300            5.0       143.0     1570.867443   \n",
      "8647                  190            2.0       136.0     1430.783567   \n",
      "\n",
      "      acceleration  model_year origin fuel_type         drivetrain  num_doors  \\\n",
      "9387           NaN        2001   Asia  Gasoline  Front-wheel drive        1.0   \n",
      "343           11.0        2018   Asia  Gasoline  Front-wheel drive        0.0   \n",
      "7739          13.0        2005   Asia    Diesel  Front-wheel drive        0.0   \n",
      "9401          11.9        2018   Asia    Diesel    All-wheel drive       -1.0   \n",
      "5416          17.3        2007   Asia  Gasoline  Front-wheel drive        0.0   \n",
      "9654          13.9        2016   Asia  Gasoline    All-wheel drive        1.0   \n",
      "1854          19.3        2012   Asia  Gasoline  Front-wheel drive        0.0   \n",
      "7505           NaN        2010   Asia  Gasoline    All-wheel drive        NaN   \n",
      "9340          13.1        2014   Asia    Diesel    All-wheel drive        1.0   \n",
      "8647          18.1        2012   Asia  Gasoline  Front-wheel drive        0.0   \n",
      "\n",
      "      fuel_efficiency_mpg  \n",
      "9387            23.759123  \n",
      "343             23.204566  \n",
      "7739            23.033673  \n",
      "9401            22.919968  \n",
      "5416            22.858156  \n",
      "9654            22.709442  \n",
      "1854            22.592785  \n",
      "7505            22.507648  \n",
      "9340            22.489480  \n",
      "8647            22.487174  \n",
      "Median before filling NaNs: 149.0\n",
      "Most frequent value: 152.0\n",
      "Median after filling NaNs: 152.0\n"
     ]
    },
    {
     "name": "stderr",
     "output_type": "stream",
     "text": [
      "/usr/local/lib/python3.11/dist-packages/pandas/io/formats/format.py:1458: RuntimeWarning: invalid value encountered in greater\n",
      "  has_large_values = (abs_vals > 1e6).any()\n",
      "/usr/local/lib/python3.11/dist-packages/pandas/io/formats/format.py:1459: RuntimeWarning: invalid value encountered in less\n",
      "  has_small_values = ((abs_vals < 10 ** (-self.digits)) & (abs_vals > 0)).any()\n",
      "/usr/local/lib/python3.11/dist-packages/pandas/io/formats/format.py:1459: RuntimeWarning: invalid value encountered in greater\n",
      "  has_small_values = ((abs_vals < 10 ** (-self.digits)) & (abs_vals > 0)).any()\n",
      "/tmp/ipykernel_36/568990056.py:35: FutureWarning: A value is trying to be set on a copy of a DataFrame or Series through chained assignment using an inplace method.\n",
      "The behavior will change in pandas 3.0. This inplace method will never work because the intermediate object on which we are setting values always behaves as a copy.\n",
      "\n",
      "For example, when doing 'df[col].method(value, inplace=True)', try using 'df.method({col: value}, inplace=True)' or df[col] = df[col].method(value) instead, to perform the operation inplace on the original object.\n",
      "\n",
      "\n",
      "  df[\"horsepower\"].fillna(most_frequent, inplace=True)\n"
     ]
    }
   ],
   "source": [
    "import pandas as pd\n",
    "import numpy as np\n",
    "\n",
    "import seaborn as sns\n",
    "from matplotlib import pyplot as plt\n",
    "%matplotlib inline\n",
    "print(pd.__version__)\n",
    "\n",
    "\n",
    "!wget https://raw.githubusercontent.com/alexeygrigorev/datasets/master/car_fuel_efficiency.csv\n",
    "df = pd.read_csv('car_fuel_efficiency.csv')\n",
    "len(df)\n",
    "\n",
    "\n",
    "df.head()\n",
    "unique_hosts = df[\"fuel_type\"].unique()\n",
    "print(unique_hosts)\n",
    "\n",
    "missing_columns_count = df.isnull().any().sum()\n",
    "print(f\"Number of columns with missing values: {missing_columns_count}\")\n",
    "\n",
    "df_asia = df[df[\"origin\"].str.lower() == \"asia\"]\n",
    "# Get row with max fuel_efficiency_mpg\n",
    "print(df_asia.sort_values(\"fuel_efficiency_mpg\", ascending=False).head(10))\n",
    "\n",
    "# 1️⃣ Find the median of horsepower (ignoring NaNs)\n",
    "median_before = df[\"horsepower\"].median()\n",
    "print(\"Median before filling NaNs:\", median_before)\n",
    "\n",
    "# 2️⃣ Find the most frequent value (mode)\n",
    "most_frequent = df[\"horsepower\"].mode()[0]   # mode() returns a Series, take first element\n",
    "print(\"Most frequent value:\", most_frequent)\n",
    "\n",
    "# 3️⃣ Fill missing values with the most frequent value\n",
    "df[\"horsepower\"].fillna(most_frequent, inplace=True)\n",
    "\n",
    "# 4️⃣ Calculate the median again after filling\n",
    "median_after = df[\"horsepower\"].median()\n",
    "print(\"Median after filling NaNs:\", median_after)"
   ]
  },
  {
   "cell_type": "code",
   "execution_count": 2,
   "metadata": {
    "execution": {
     "iopub.execute_input": "2025-09-28T10:48:40.164199Z",
     "iopub.status.busy": "2025-09-28T10:48:40.163796Z",
     "iopub.status.idle": "2025-09-28T10:48:40.277263Z",
     "shell.execute_reply": "2025-09-28T10:48:40.275456Z",
     "shell.execute_reply.started": "2025-09-28T10:48:40.164156Z"
    },
    "trusted": true
   },
   "outputs": [
    {
     "name": "stdout",
     "output_type": "stream",
     "text": [
      "w: [0.01386421 0.5049067 ]\n",
      "Sum of elements of w: 0.5187709081074023\n"
     ]
    }
   ],
   "source": [
    "# 1️⃣ Select all cars from Asia\n",
    "df_asia = df[df[\"origin\"].str.strip().str.lower() == \"asia\"]\n",
    "\n",
    "# 2️⃣ Select only columns vehicle_weight and model_year\n",
    "df_asia_sub = df_asia[[\"vehicle_weight\", \"model_year\"]]\n",
    "\n",
    "# 3️⃣ Select the first 7 values\n",
    "df_asia_sub = df_asia_sub.head(7)\n",
    "\n",
    "# 4️⃣ Get underlying NumPy array\n",
    "X = df_asia_sub.to_numpy()\n",
    "\n",
    "# 5️⃣ Compute X.T @ X\n",
    "XTX = X.T @ X\n",
    "\n",
    "# 6️⃣ Invert XTX\n",
    "XTX_inv = np.linalg.inv(XTX)\n",
    "\n",
    "# 7️⃣ Create y array\n",
    "y = np.array([1100, 1300, 800, 900, 1000, 1100, 1200])\n",
    "\n",
    "# 8️⃣ Compute w = XTX_inv @ X.T @ y\n",
    "w = XTX_inv @ X.T @ y\n",
    "\n",
    "# 9️⃣ Sum of all elements of w\n",
    "sum_w = w.sum()\n",
    "\n",
    "print(\"w:\", w)\n",
    "print(\"Sum of elements of w:\", sum_w)"
   ]
  }
 ],
 "metadata": {
  "kaggle": {
   "accelerator": "none",
   "dataSources": [],
   "dockerImageVersionId": 31089,
   "isGpuEnabled": false,
   "isInternetEnabled": true,
   "language": "python",
   "sourceType": "notebook"
  },
  "kernelspec": {
   "display_name": "Python 3",
   "language": "python",
   "name": "python3"
  },
  "language_info": {
   "codemirror_mode": {
    "name": "ipython",
    "version": 3
   },
   "file_extension": ".py",
   "mimetype": "text/x-python",
   "name": "python",
   "nbconvert_exporter": "python",
   "pygments_lexer": "ipython3",
   "version": "3.11.13"
  }
 },
 "nbformat": 4,
 "nbformat_minor": 4
}
