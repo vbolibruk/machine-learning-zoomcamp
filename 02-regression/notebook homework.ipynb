{
 "cells": [
  {
   "cell_type": "markdown",
   "metadata": {},
   "source": [
    "## 2. Machine Learning for Regression\n"
   ]
  },
  {
   "cell_type": "code",
   "execution_count": 6,
   "metadata": {
    "scrolled": true
   },
   "outputs": [],
   "source": [
    "import pandas as pd\n",
    "import numpy as np"
   ]
  },
  {
   "cell_type": "markdown",
   "metadata": {},
   "source": [
    "## 2.2 Data preparation"
   ]
  },
  {
   "cell_type": "code",
   "execution_count": 7,
   "metadata": {},
   "outputs": [],
   "source": [
    "data = 'https://raw.githubusercontent.com/alexeygrigorev/datasets/master/car_fuel_efficiency.csv'"
   ]
  },
  {
   "cell_type": "code",
   "execution_count": 8,
   "metadata": {},
   "outputs": [
    {
     "name": "stdout",
     "output_type": "stream",
     "text": [
      "--2025-10-09 12:06:45--  https://raw.githubusercontent.com/alexeygrigorev/datasets/master/car_fuel_efficiency.csv\n",
      "Resolving raw.githubusercontent.com (raw.githubusercontent.com)... 185.199.108.133, 185.199.110.133, 185.199.111.133, ...\n",
      "Connecting to raw.githubusercontent.com (raw.githubusercontent.com)|185.199.108.133|:443... connected.\n",
      "HTTP request sent, awaiting response... 200 OK\n",
      "Length: 874188 (854K) [text/plain]\n",
      "Saving to: ‘car_fuel_efficiency.csv.4’\n",
      "\n",
      "car_fuel_efficiency 100%[===================>] 853,70K  4,72MB/s    in 0,2s    \n",
      "\n",
      "2025-10-09 12:06:45 (4,72 MB/s) - ‘car_fuel_efficiency.csv.4’ saved [874188/874188]\n",
      "\n"
     ]
    }
   ],
   "source": [
    "!wget $data "
   ]
  },
  {
   "cell_type": "code",
   "execution_count": 9,
   "metadata": {},
   "outputs": [],
   "source": [
    "df = pd.read_csv('car_fuel_efficiency.csv')"
   ]
  },
  {
   "cell_type": "code",
   "execution_count": 10,
   "metadata": {},
   "outputs": [],
   "source": [
    "df.columns = df.columns.str.lower().str.replace(' ', '_')"
   ]
  },
  {
   "cell_type": "code",
   "execution_count": null,
   "id": "3a93754a",
   "metadata": {},
   "outputs": [
    {
     "name": "stdout",
     "output_type": "stream",
     "text": [
      "Columns with missing values: ['num_cylinders', 'horsepower', 'acceleration', 'num_doors']\n"
     ]
    }
   ],
   "source": [
    "# Missing values overview\n",
    "missing_cols = df.columns[df.isnull().any()]\n",
    "print(\"Columns with missing values:\", missing_cols.tolist())\n",
    "\n",
    "# 'engine_displacement',\n",
    "# 'horsepower',\n",
    "# 'vehicle_weight',\n",
    "# 'model_year',\n",
    "# 'fuel_efficiency_mpg'\n",
    "\n",
    "\n",
    "#horsepower"
   ]
  },
  {
   "cell_type": "code",
   "execution_count": null,
   "id": "41524472",
   "metadata": {},
   "outputs": [
    {
     "name": "stdout",
     "output_type": "stream",
     "text": [
      "Median horsepower: 149.0\n"
     ]
    }
   ],
   "source": [
    "# Median (50th percentile) for 'horsepower'\n",
    "if 'horsepower' in df.columns:\n",
    "    median_hp = float(pd.to_numeric(df['horsepower'], errors='coerce').median(skipna=True))\n",
    "    print('Median horsepower:', median_hp)\n",
    "else:\n",
    "    print(\"Column 'horsepower' not found.\")\n",
    "#149"
   ]
  },
  {
   "cell_type": "code",
   "execution_count": 18,
   "id": "706238e2",
   "metadata": {},
   "outputs": [
    {
     "name": "stdout",
     "output_type": "stream",
     "text": [
      "Filtered columns: ['engine_displacement', 'horsepower', 'vehicle_weight', 'model_year', 'fuel_efficiency_mpg']\n",
      "Filtered rows: 8996\n"
     ]
    }
   ],
   "source": [
    "# Prepare filtered dataset: select columns, drop missing, shuffle with seed 42\n",
    "requested_cols = [\n",
    "    'engine_displacement',\n",
    "    'horsepower',\n",
    "    'vehicle_weight',\n",
    "    'model_year',\n",
    "    'fuel_efficiency_mpg',\n",
    "]\n",
    "\n",
    "existing_cols = [c for c in requested_cols if c in df.columns]\n",
    "missing_requested = [c for c in requested_cols if c not in existing_cols]\n",
    "\n",
    "if missing_requested:\n",
    "    print('Requested columns not found and will be skipped:', missing_requested)\n",
    "\n",
    "if not existing_cols:\n",
    "    raise ValueError('None of the requested columns are present')\n",
    "\n",
    "# Filter and clean\n",
    "filtered = df[existing_cols].copy()\n",
    "filtered = filtered.dropna(subset=existing_cols)\n",
    "\n",
    "# Shuffle with seed 42\n",
    "filtered = filtered.sample(frac=1.0, random_state=42).reset_index(drop=True)\n",
    "\n",
    "print('Filtered columns:', existing_cols)\n",
    "print('Filtered rows:', len(filtered))\n"
   ]
  },
  {
   "cell_type": "code",
   "execution_count": 19,
   "id": "21b3340c",
   "metadata": {},
   "outputs": [
    {
     "name": "stdout",
     "output_type": "stream",
     "text": [
      "{'n': 8996, 'train': 5397, 'val': 1799, 'test': 1800}\n"
     ]
    }
   ],
   "source": [
    "# Split into train/val/test = 60%/20%/20%\n",
    "from math import floor\n",
    "\n",
    "n = len(filtered)\n",
    "\n",
    "n_train = floor(n * 0.6)\n",
    "n_val = floor(n * 0.2)\n",
    "# ensure leftover goes to test\n",
    "n_test = n - n_train - n_val\n",
    "\n",
    "train = filtered.iloc[:n_train].reset_index(drop=True)\n",
    "val = filtered.iloc[n_train:n_train + n_val].reset_index(drop=True)\n",
    "test = filtered.iloc[n_train + n_val:].reset_index(drop=True)\n",
    "\n",
    "print({'n': n, 'train': len(train), 'val': len(val), 'test': len(test)})\n"
   ]
  },
  {
   "cell_type": "code",
   "execution_count": 22,
   "id": "ffabb5e3",
   "metadata": {},
   "outputs": [
    {
     "name": "stdout",
     "output_type": "stream",
     "text": [
      "{'rmse_zero': 0.52, 'rmse_mean': 0.46}\n",
      "Better option: mean\n"
     ]
    }
   ],
   "source": [
    "# Imputation experiment for 'horsepower': 0 vs train-mean; Linear Regression, RMSE on val\n",
    "from typing import List\n",
    "from sklearn.linear_model import LinearRegression\n",
    "from sklearn.metrics import mean_squared_error\n",
    "\n",
    "# Resolve target column\n",
    "target_candidates: List[str] = ['fuel_efficiency_mpg', 'combined_mpg', 'highway_mpg', 'city_mpg']\n",
    "for t in target_candidates:\n",
    "    if t in df.columns:\n",
    "        target_col = t\n",
    "        break\n",
    "else:\n",
    "    raise ValueError('No target column found among: ' + ', '.join(target_candidates))\n",
    "\n",
    "# Feature set (use only those that exist)\n",
    "feature_candidates: List[str] = ['engine_displacement', 'horsepower', 'vehicle_weight', 'model_year']\n",
    "features: List[str] = [c for c in feature_candidates if c in df.columns]\n",
    "if 'horsepower' not in features:\n",
    "    raise ValueError(\"'horsepower' column not found in features\")\n",
    "\n",
    "# Keep only needed columns; drop rows with missing target or with missing in non-horsepower features\n",
    "subset = df[features + [target_col]].copy()\n",
    "non_hp_features = [c for c in features if c != 'horsepower']\n",
    "if non_hp_features:\n",
    "    subset = subset.dropna(subset=[target_col] + non_hp_features)\n",
    "else:\n",
    "    subset = subset.dropna(subset=[target_col])\n",
    "\n",
    "# Shuffle with seed 42 and split 60/20/20\n",
    "subset = subset.sample(frac=1.0, random_state=42).reset_index(drop=True)\n",
    "N = len(subset)\n",
    "n_train = int(N * 0.6)\n",
    "n_val = int(N * 0.2)\n",
    "\n",
    "train_df = subset.iloc[:n_train].reset_index(drop=True)\n",
    "val_df = subset.iloc[n_train:n_train + n_val].reset_index(drop=True)\n",
    "# test_df = subset.iloc[n_train + n_val:].reset_index(drop=True)  # not used here\n",
    "\n",
    "# Helper: train/eval with a provided imputed 'horsepower'\n",
    "def train_eval_with_imputation(train_in: 'pd.DataFrame', val_in: 'pd.DataFrame') -> float:\n",
    "    X_train = train_in[features].values\n",
    "    y_train = train_in[target_col].values\n",
    "    X_val = val_in[features].values\n",
    "    y_val = val_in[target_col].values\n",
    "\n",
    "    model = LinearRegression()\n",
    "    model.fit(X_train, y_train)\n",
    "    y_pred = model.predict(X_val)\n",
    "    # compute RMSE without relying on 'squared' kw for compatibility\n",
    "    rmse = mean_squared_error(y_val, y_pred) ** 0.5\n",
    "    return rmse\n",
    "\n",
    "# Option A: fill horsepower with 0\n",
    "train_zero = train_df.copy()\n",
    "val_zero = val_df.copy()\n",
    "train_zero['horsepower'] = train_zero['horsepower'].fillna(0)\n",
    "val_zero['horsepower'] = val_zero['horsepower'].fillna(0)\n",
    "rmse_zero = train_eval_with_imputation(train_zero, val_zero)\n",
    "\n",
    "# Option B: fill horsepower with train mean (computed on training only)\n",
    "train_mean_value = pd.to_numeric(train_df['horsepower'], errors='coerce').mean()\n",
    "train_mean = train_df.copy()\n",
    "val_mean = val_df.copy()\n",
    "train_mean['horsepower'] = pd.to_numeric(train_mean['horsepower'], errors='coerce').fillna(train_mean_value)\n",
    "val_mean['horsepower'] = pd.to_numeric(val_mean['horsepower'], errors='coerce').fillna(train_mean_value)\n",
    "rmse_mean = train_eval_with_imputation(train_mean, val_mean)\n",
    "\n",
    "print({'rmse_zero': round(rmse_zero, 2), 'rmse_mean': round(rmse_mean, 2)})\n",
    "print('Better option:', 'mean' if rmse_mean < rmse_zero else 'zero')\n"
   ]
  },
  {
   "cell_type": "code",
   "execution_count": 24,
   "id": "7fe78687",
   "metadata": {},
   "outputs": [
    {
     "name": "stdout",
     "output_type": "stream",
     "text": [
      "RMSE by r: {0: 0.5171866956560172, 0.01: 0.5171866956637374, 0.1: 0.517186695733219, 1: 0.5171866964280346, 5: 0.5171866995160863, 10: 0.5171867033761105, 100: 0.5171867728488829}\n",
      "Best r: 0\n"
     ]
    }
   ],
   "source": [
    "# Regularized linear regression (Ridge): fill NAs with 0, tune r\n",
    "from sklearn.linear_model import Ridge\n",
    "from sklearn.metrics import mean_squared_error\n",
    "\n",
    "# Ensure we have train_df/val_df and features/target_col from previous cell\n",
    "assert 'train_df' in globals() and 'val_df' in globals(), 'Expected train_df and val_df from previous step'\n",
    "assert 'features' in globals() and 'target_col' in globals(), 'Expected features and target_col from previous step'\n",
    "\n",
    "# Make copies and coerce to numeric; fill NAs with 0 as required\n",
    "train_r = train_df.copy()\n",
    "val_r = val_df.copy()\n",
    "for c in features:\n",
    "    train_r[c] = pd.to_numeric(train_r[c], errors='coerce').fillna(0)\n",
    "    val_r[c] = pd.to_numeric(val_r[c], errors='coerce').fillna(0)\n",
    "\n",
    "X_train = train_r[features].values\n",
    "y_train = train_r[target_col].values\n",
    "X_val = val_r[features].values\n",
    "y_val = val_r[target_col].values\n",
    "\n",
    "rs = [0, 0.01, 0.1, 1, 5, 10, 100]\n",
    "rmse_by_r = {}\n",
    "for r in rs:\n",
    "    model = Ridge(alpha=r)\n",
    "    model.fit(X_train, y_train)\n",
    "    y_pred = model.predict(X_val)\n",
    "    rmse = mean_squared_error(y_val, y_pred) ** 0.5\n",
    "    rmse_by_r[r] = rmse\n",
    "\n",
    "print('RMSE by r:', rmse_by_r)\n",
    "best_r = min(rmse_by_r, key=lambda k: rmse_by_r[k])\n",
    "print('Best r:', best_r)\n"
   ]
  },
  {
   "cell_type": "code",
   "execution_count": 28,
   "id": "554d4934",
   "metadata": {},
   "outputs": [
    {
     "name": "stdout",
     "output_type": "stream",
     "text": [
      "RMSE per seed: [0.52, 0.52, 0.52, 0.52, 0.51, 0.53, 0.53, 0.51, 0.51, 0.51]\n",
      "STD of RMSE: 0.007126319128873935\n"
     ]
    }
   ],
   "source": [
    "# Seed sensitivity: split with seeds 0..9, zero-impute, LinearRegression, RMSE std\n",
    "from sklearn.linear_model import LinearRegression\n",
    "from sklearn.metrics import mean_squared_error\n",
    "\n",
    "assert 'features' in globals() and 'target_col' in globals(), 'Expected features and target_col from previous step'\n",
    "\n",
    "# Build a base subset consistent with earlier logic: drop missing target and non-horsepower features\n",
    "base_subset = df[features + [target_col]].copy()\n",
    "non_hp_features = [c for c in features if c != 'horsepower']\n",
    "if non_hp_features:\n",
    "    base_subset = base_subset.dropna(subset=[target_col] + non_hp_features)\n",
    "else:\n",
    "    base_subset = base_subset.dropna(subset=[target_col])\n",
    "\n",
    "seeds = list(range(10))\n",
    "rmse_scores = []\n",
    "\n",
    "for seed in seeds:\n",
    "    data_seed = base_subset.sample(frac=1.0, random_state=seed).reset_index(drop=True)\n",
    "    N = len(data_seed)\n",
    "    n_train = int(N * 0.6)\n",
    "    n_val = int(N * 0.2)\n",
    "\n",
    "    train_s = data_seed.iloc[:n_train].reset_index(drop=True)\n",
    "    val_s = data_seed.iloc[n_train:n_train + n_val].reset_index(drop=True)\n",
    "\n",
    "    # zero-impute all features (coerce to numeric first), as required\n",
    "    for c in features:\n",
    "        train_s[c] = pd.to_numeric(train_s[c], errors='coerce').fillna(0)\n",
    "        val_s[c] = pd.to_numeric(val_s[c], errors='coerce').fillna(0)\n",
    "\n",
    "    X_train = train_s[features].values\n",
    "    y_train = train_s[target_col].values\n",
    "    X_val = val_s[features].values\n",
    "    y_val = val_s[target_col].values\n",
    "\n",
    "    model = LinearRegression()\n",
    "    model.fit(X_train, y_train)\n",
    "    y_pred = model.predict(X_val)\n",
    "    rmse = mean_squared_error(y_val, y_pred) ** 0.5\n",
    "    rmse_scores.append(rmse)\n",
    "\n",
    "std_rmse = float(np.std(rmse_scores))\n",
    "print('RMSE per seed:', [round(s, 2) for s in rmse_scores])\n",
    "print('STD of RMSE:', std_rmse)\n"
   ]
  },
  {
   "cell_type": "code",
   "execution_count": 27,
   "id": "84f05126",
   "metadata": {},
   "outputs": [
    {
     "name": "stdout",
     "output_type": "stream",
     "text": [
      "Test RMSE (r=0.001, seed=9): 0.52\n"
     ]
    }
   ],
   "source": [
    "# Final eval: seed=9, combine train+val, zero-impute, Ridge r=0.001, RMSE on test\n",
    "from sklearn.linear_model import Ridge\n",
    "from sklearn.metrics import mean_squared_error\n",
    "\n",
    "assert 'features' in globals() and 'target_col' in globals(), 'Expected features and target_col from previous step'\n",
    "\n",
    "# Build subset consistent with earlier preprocessing\n",
    "subset = df[features + [target_col]].copy()\n",
    "non_hp_features = [c for c in features if c != 'horsepower']\n",
    "if non_hp_features:\n",
    "    subset = subset.dropna(subset=[target_col] + non_hp_features)\n",
    "else:\n",
    "    subset = subset.dropna(subset=[target_col])\n",
    "\n",
    "# Split with seed=9 (60/20/20)\n",
    "subset = subset.sample(frac=1.0, random_state=9).reset_index(drop=True)\n",
    "N = len(subset)\n",
    "n_train = int(N * 0.6)\n",
    "n_val = int(N * 0.2)\n",
    "\n",
    "train_df = subset.iloc[:n_train].reset_index(drop=True)\n",
    "val_df = subset.iloc[n_train:n_train + n_val].reset_index(drop=True)\n",
    "test_df = subset.iloc[n_train + n_val:].reset_index(drop=True)\n",
    "\n",
    "# Combine train and val\n",
    "train_full = pd.concat([train_df, val_df], axis=0, ignore_index=True)\n",
    "\n",
    "# Zero-impute features (coerce numeric first)\n",
    "for c in features:\n",
    "    train_full[c] = pd.to_numeric(train_full[c], errors='coerce').fillna(0)\n",
    "    test_df[c] = pd.to_numeric(test_df[c], errors='coerce').fillna(0)\n",
    "\n",
    "X_train = train_full[features].values\n",
    "y_train = train_full[target_col].values\n",
    "X_test = test_df[features].values\n",
    "y_test = test_df[target_col].values\n",
    "\n",
    "model = Ridge(alpha=0.001)\n",
    "model.fit(X_train, y_train)\n",
    "y_pred = model.predict(X_test)\n",
    "rmse_test = (mean_squared_error(y_test, y_pred)) ** 0.5\n",
    "print('Test RMSE (r=0.001, seed=9):', round(float(rmse_test), 2))\n"
   ]
  }
 ],
 "metadata": {
  "kernelspec": {
   "display_name": "ml-zoomcamp",
   "language": "python",
   "name": "python3"
  },
  "language_info": {
   "codemirror_mode": {
    "name": "ipython",
    "version": 3
   },
   "file_extension": ".py",
   "mimetype": "text/x-python",
   "name": "python",
   "nbconvert_exporter": "python",
   "pygments_lexer": "ipython3",
   "version": "3.11.13"
  }
 },
 "nbformat": 4,
 "nbformat_minor": 5
}
